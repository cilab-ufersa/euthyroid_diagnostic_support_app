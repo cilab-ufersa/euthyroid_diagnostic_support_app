{
 "cells": [
  {
   "cell_type": "code",
   "execution_count": 2,
   "metadata": {},
   "outputs": [],
   "source": [
    "import warnings\n",
    "warnings.filterwarnings('ignore')\n",
    "\n",
    "import joblib \n",
    "import pickle\n",
    "from utils_test_2 import *\n"
   ]
  },
  {
   "cell_type": "code",
   "execution_count": 3,
   "metadata": {},
   "outputs": [],
   "source": [
    "dataset =  pd.read_csv('/home/vinicius/UFERSA/cilab/euthyroid_diagnostic_support_app/tests/features/euthyroid_final_features.csv')\n",
    "output_label_dataset = dataset['classification']  #1 = sick, 0 = normal\n",
    "dataset = dataset[['age', 'sex', 'sick', 'TSH', 'T3', 'TT4', 'T4U', 'FTI']]\n",
    "dataset_res, ouput_label = balance_dataset_smote(dataset, output_label_dataset, random_state=42, k_neighbors=5)\n",
    "input_train, input_test, output_train, output_test = slipt_and_standardize_dataset(dataset=dataset_res, output_label=ouput_label)"
   ]
  },
  {
   "cell_type": "code",
   "execution_count": 4,
   "metadata": {},
   "outputs": [],
   "source": [
    "model_stacking = joblib.load('/home/vinicius/UFERSA/cilab/euthyroid_diagnostic_support_app/models/StackingClassifier.sav')"
   ]
  },
  {
   "cell_type": "code",
   "execution_count": 9,
   "metadata": {},
   "outputs": [
    {
     "name": "stdout",
     "output_type": "stream",
     "text": [
      "[1 0 1 ... 1 0 0]\n"
     ]
    }
   ],
   "source": [
    "output_model_stacking = model_stacking.predict(input_test)\n",
    "print(output_model_stacking)"
   ]
  },
  {
   "cell_type": "code",
   "execution_count": 5,
   "metadata": {},
   "outputs": [
    {
     "name": "stdout",
     "output_type": "stream",
     "text": [
      "\n",
      "A acurácia é de:  0.9878048780487805\n",
      "A precisão é de:  0.9875\n",
      "A pontuação de recall é de:  0.9875\n",
      "A pontuação de F1 é de:  0.9875\n"
     ]
    }
   ],
   "source": [
    "accuracy(output_test, output_model_stacking)\n",
    "precision(output_test, output_model_stacking) \n",
    "recall(output_test, output_model_stacking) \n",
    "f1(output_test, output_model_stacking)"
   ]
  },
  {
   "cell_type": "code",
   "execution_count": 8,
   "metadata": {},
   "outputs": [
    {
     "data": {
      "image/png": "[encoded data removed]",
      "text/plain": [
       "<Figure size 300x300 with 1 Axes>"
      ]
     },
     "metadata": {},
     "output_type": "display_data"
    }
   ],
   "source": [
    "fig = plot_confusion_matrix(output_test, output_model_stacking, model_stacking, \"stacking\", labelx='Prediction', labely='Real', display_labels=['Normal', 'ESS'])\n"
   ]
  }
 ],
 "metadata": {
  "kernelspec": {
   "display_name": "cilab",
   "language": "python",
   "name": "python3"
  },
  "language_info": {
   "codemirror_mode": {
    "name": "ipython",
    "version": 3
   },
   "file_extension": ".py",
   "mimetype": "text/x-python",
   "name": "python",
   "nbconvert_exporter": "python",
   "pygments_lexer": "ipython3",
   "version": "3.10.6"
  },
  "orig_nbformat": 4
 },
 "nbformat": 4,
 "nbformat_minor": 2
}
